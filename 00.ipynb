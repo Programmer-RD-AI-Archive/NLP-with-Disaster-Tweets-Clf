{
 "cells": [
  {
   "cell_type": "code",
   "execution_count": 1,
   "id": "e7939d8d-fc97-47bf-a24a-ce056de3356b",
   "metadata": {},
   "outputs": [],
   "source": [
    "import nltk\n",
    "from nltk.stem.porter import *\n",
    "from torch.nn import *\n",
    "from torch.optim import *\n",
    "import numpy as np\n",
    "import pandas as pd\n",
    "import torch,torchvision\n",
    "import random\n",
    "from tqdm import *\n",
    "from torch.utils.data import Dataset,DataLoader\n",
    "stemmer = PorterStemmer()"
   ]
  },
  {
   "cell_type": "code",
   "execution_count": 2,
   "id": "b6aec372-1e5b-4eb0-affc-c179a5972e30",
   "metadata": {},
   "outputs": [],
   "source": [
    "def tokenize(word):\n",
    "    return nltk.word_tokenize(word)"
   ]
  },
  {
   "cell_type": "code",
   "execution_count": 3,
   "id": "e98665e4-0e98-47f7-badf-9e3b4b9cac5b",
   "metadata": {},
   "outputs": [
    {
     "data": {
      "text/plain": [
       "['how', 'are', 'you', '?', 'bro']"
      ]
     },
     "execution_count": 3,
     "metadata": {},
     "output_type": "execute_result"
    }
   ],
   "source": [
    "tokenize('how are you ? bro ')"
   ]
  },
  {
   "cell_type": "code",
   "execution_count": 4,
   "id": "5e429401-c545-46e0-89c3-c1a6b830f577",
   "metadata": {},
   "outputs": [],
   "source": [
    "def stem(word):\n",
    "    return stemmer.stem(word.lower())"
   ]
  },
  {
   "cell_type": "code",
   "execution_count": 5,
   "id": "5c22dba3-5e84-4aff-af85-67c5573063d6",
   "metadata": {},
   "outputs": [
    {
     "data": {
      "text/plain": [
       "('how', 'are', 'you', '?', 'bro')"
      ]
     },
     "execution_count": 5,
     "metadata": {},
     "output_type": "execute_result"
    }
   ],
   "source": [
    "stem('how'),stem('are'),stem('you'),stem('?'),stem('bro')"
   ]
  },
  {
   "cell_type": "code",
   "execution_count": 6,
   "id": "e0bd6ee4-6cda-42c0-afca-09803f6b19fc",
   "metadata": {},
   "outputs": [],
   "source": [
    "def bag_of_words(tokenized_word,all_words):\n",
    "    tokenized_words = []\n",
    "    for tokenized_w in tokenized_word:\n",
    "        tokenized_words.append(stem(tokenized_w))\n",
    "    bag = np.zeros(len(all_words),dtype=np.float32)\n",
    "    for idx,w in enumerate(tokenized_words):\n",
    "        if w in all_words:\n",
    "            bag[idx] = 1.0\n",
    "    return bag"
   ]
  },
  {
   "cell_type": "code",
   "execution_count": 7,
   "id": "94a47ae7-64ad-4c5c-9837-c67e3da78235",
   "metadata": {},
   "outputs": [
    {
     "data": {
      "text/plain": [
       "array([1., 0., 0., 0., 0.], dtype=float32)"
      ]
     },
     "execution_count": 7,
     "metadata": {},
     "output_type": "execute_result"
    }
   ],
   "source": [
    "bag_of_words(['bro'],tokenize('how are you ? bro '))"
   ]
  },
  {
   "cell_type": "code",
   "execution_count": 8,
   "id": "f3e65cd8-d87b-48ec-b24f-6343a1c37042",
   "metadata": {},
   "outputs": [],
   "source": [
    "batch_size = 32\n",
    "epochs = 250\n",
    "device = 'cuda'\n",
    "new_data = []\n",
    "all_words = []\n",
    "tags = []\n",
    "ignore_words = [\"?\", \"!\", \".\", \"@\", \"#\", \"$\", \"%\", \"^\", \"&\", \"*\"]\n",
    "data = pd.read_csv('./data/train_data_cleaning.csv')\n",
    "X = data['text'].tolist()\n",
    "y = data['target'].tolist()"
   ]
  },
  {
   "cell_type": "code",
   "execution_count": 9,
   "id": "70620661-9f1c-445e-8d80-71e1207fc201",
   "metadata": {},
   "outputs": [
    {
     "name": "stderr",
     "output_type": "stream",
     "text": [
      "7613it [00:02, 3191.32it/s]\n"
     ]
    }
   ],
   "source": [
    "for X_batch,y_batch in tqdm(zip(X,y)):\n",
    "    X_batch = tokenize(X_batch)\n",
    "    new_X = []\n",
    "    for x_batch in X_batch:\n",
    "        if x_batch in ignore_words:\n",
    "            pass\n",
    "        else:\n",
    "            new_X.append(stem(x_batch))\n",
    "        all_words.extend(new_X)\n",
    "    tags.append(y_batch)\n",
    "    new_data.append((new_X,y_batch))"
   ]
  },
  {
   "cell_type": "code",
   "execution_count": 10,
   "id": "e4a907ec-2554-4087-a2d6-40e8505e58a4",
   "metadata": {},
   "outputs": [],
   "source": [
    "tags = sorted(set(tags))"
   ]
  },
  {
   "cell_type": "code",
   "execution_count": 11,
   "id": "38ad2674-ab20-4afa-9b60-3223b331885d",
   "metadata": {},
   "outputs": [
    {
     "data": {
      "text/plain": [
       "[0, 1]"
      ]
     },
     "execution_count": 11,
     "metadata": {},
     "output_type": "execute_result"
    }
   ],
   "source": [
    "tags"
   ]
  },
  {
   "cell_type": "code",
   "execution_count": 12,
   "id": "249f9bad-117e-421e-abce-28a67e1f2b6a",
   "metadata": {},
   "outputs": [],
   "source": [
    "all_words = sorted(set(all_words))"
   ]
  },
  {
   "cell_type": "code",
   "execution_count": 13,
   "id": "4a1d8140-da20-4601-bc76-71ee654b63d5",
   "metadata": {},
   "outputs": [],
   "source": [
    "np.random.shuffle(new_data)"
   ]
  },
  {
   "cell_type": "code",
   "execution_count": 14,
   "id": "0db91c23-b501-41c6-94ab-60a4784edb6c",
   "metadata": {},
   "outputs": [],
   "source": [
    "X = []\n",
    "y = []"
   ]
  },
  {
   "cell_type": "code",
   "execution_count": null,
   "id": "06d7fa0d-0897-473f-bc9d-243533ae362b",
   "metadata": {},
   "outputs": [
    {
     "name": "stderr",
     "output_type": "stream",
     "text": [
      " 40%|████      | 3061/7613 [00:04<00:07, 615.74it/s]"
     ]
    }
   ],
   "source": [
    "for sent,tag in tqdm(new_data):\n",
    "    bag = bag_of_words(sent,all_words)\n",
    "    X.append(bag)\n",
    "    label = tags.index(tag)\n",
    "    y.append(label)"
   ]
  },
  {
   "cell_type": "code",
   "execution_count": null,
   "id": "bb7439e9-9fcf-4234-8205-5aea174eb73d",
   "metadata": {},
   "outputs": [],
   "source": [
    "X[:5]"
   ]
  },
  {
   "cell_type": "code",
   "execution_count": null,
   "id": "c1a9e998-81df-4ae4-a5f1-9bf1e553e8b2",
   "metadata": {},
   "outputs": [],
   "source": [
    "y[:5]"
   ]
  },
  {
   "cell_type": "code",
   "execution_count": null,
   "id": "495f0ff2-5ee6-42ef-9965-30fe00e89af2",
   "metadata": {},
   "outputs": [],
   "source": [
    "len(all_words)"
   ]
  },
  {
   "cell_type": "code",
   "execution_count": null,
   "id": "8215922e-aae1-401c-bda2-ee5623b3de8c",
   "metadata": {},
   "outputs": [],
   "source": [
    "from sklearn.model_selection import *"
   ]
  },
  {
   "cell_type": "code",
   "execution_count": null,
   "id": "c052e88c-4688-4392-a860-5773c87e72ae",
   "metadata": {},
   "outputs": [],
   "source": [
    "X_train,X_test,y_train,y_test = train_test_split(X,y,test_size=0.125,shuffle=False)"
   ]
  },
  {
   "cell_type": "code",
   "execution_count": null,
   "id": "38e5ce7a-f81d-4ac2-80ef-5f0a54dc41ec",
   "metadata": {},
   "outputs": [],
   "source": [
    "X_train = torch.from_numpy(np.array(X_train)).to(device).float()\n",
    "X_test = torch.from_numpy(np.array(X_test)).to(device).float()\n",
    "y_train = torch.from_numpy(np.array(y_train)).to(device).float()\n",
    "y_test = torch.from_numpy(np.array(y_test)).to(device).float()"
   ]
  },
  {
   "cell_type": "code",
   "execution_count": null,
   "id": "f99ca8a6-f112-45ad-bdd6-0b5924186af3",
   "metadata": {},
   "outputs": [],
   "source": [
    "def get_loss(model,X,y,criterion):\n",
    "    preds = model(X)\n",
    "    loss = criterion(preds.view(-1,1),y.view(-1,1))\n",
    "    return loss.item()"
   ]
  },
  {
   "cell_type": "code",
   "execution_count": null,
   "id": "62a8c404-9c6c-4bd3-9350-560d32b435b2",
   "metadata": {},
   "outputs": [],
   "source": [
    "def get_accuracy(model,X,y):\n",
    "    preds = model(X)\n",
    "    correct = -1\n",
    "    total = -1\n",
    "    for pred,y_batch in zip(preds,y):\n",
    "        pred = int(torch.round(pred))\n",
    "        y_batch = int(torch.round(y_batch))\n",
    "        if pred == y_batch:\n",
    "            correct += 1\n",
    "        total += 1\n",
    "    acc = round(correct/total,3)\n",
    "    acc = acc*100\n",
    "    return acc"
   ]
  },
  {
   "cell_type": "code",
   "execution_count": null,
   "id": "cd432e58-3698-4401-8e63-3e5f9550a650",
   "metadata": {},
   "outputs": [],
   "source": [
    "class Model(Module):\n",
    "    def __init__(self):\n",
    "        super().__init__()\n",
    "        self.activation = ReLU()\n",
    "        self.linear1 = Linear(len(all_words),128)\n",
    "        self.linear2 = Linear(128,256)\n",
    "        self.linear3 = Linear(256,512)\n",
    "        self.linear4 = Linear(512,1024)\n",
    "        self.linear5 = Linear(1024,1)\n",
    "        self.output_activation = Sigmoid()\n",
    "    \n",
    "    def forward(self,X):\n",
    "        preds = self.activation(self.linear1(X))\n",
    "        preds = self.activation(self.linear2(preds))\n",
    "        preds = self.activation(self.linear3(preds))\n",
    "        preds = self.activation(self.linear4(preds))\n",
    "        preds = self.output_activation(self.linear5(preds))\n",
    "        return preds"
   ]
  },
  {
   "cell_type": "code",
   "execution_count": null,
   "id": "02b70ea7-b7e3-4077-b31e-de28e3afc5a8",
   "metadata": {},
   "outputs": [],
   "source": [
    "model = Model().to(device)"
   ]
  },
  {
   "cell_type": "code",
   "execution_count": null,
   "id": "d75a9c9c-634f-4c22-8209-c4e294388db7",
   "metadata": {},
   "outputs": [],
   "source": [
    "criterion = MSELoss()"
   ]
  },
  {
   "cell_type": "code",
   "execution_count": null,
   "id": "5eb7378d-c135-4889-a9e8-387b0e44c164",
   "metadata": {},
   "outputs": [],
   "source": [
    "optimizer = Adam(model.parameters(),lr=0.001)"
   ]
  },
  {
   "cell_type": "code",
   "execution_count": null,
   "id": "2c4e1a58-fa67-4b37-9de6-461b8d4f7856",
   "metadata": {},
   "outputs": [],
   "source": [
    "PROJECT_NAME = 'NLP-with-Disaster-Tweets-Clf'"
   ]
  },
  {
   "cell_type": "code",
   "execution_count": null,
   "id": "fad2025f-d04a-4d50-bc77-d718ed26df5f",
   "metadata": {},
   "outputs": [],
   "source": [
    "import wandb"
   ]
  },
  {
   "cell_type": "code",
   "execution_count": null,
   "id": "211221a7-ed13-46c5-b315-bd77a041b99e",
   "metadata": {},
   "outputs": [],
   "source": [
    "wandb.init(project=PROJECT_NAME,name=f'baseline-{criterion}-no-backward-pass')\n",
    "wandb.watch(model)\n",
    "for _ in tqdm(range(epochs)):\n",
    "    for idx in range(0,len(X_train),batch_size):\n",
    "        X_batch = X_train[idx:idx+batch_size].to(device).float()\n",
    "        y_batch = y_train[idx:idx+batch_size].to(device).float()\n",
    "        preds = model(X_batch)\n",
    "        preds = preds.to(device)\n",
    "        loss = criterion(preds.view(-1,1),y_batch.view(-1,1))\n",
    "        optimizer.zero_grad()\n",
    "        loss.backward()\n",
    "        optimizer.step()\n",
    "    wandb.log({'Loss':get_loss(model,X_train,y_train,criterion)})\n",
    "    wandb.log({'Val Loss':get_loss(model,X_test,y_test,criterion)})\n",
    "    wandb.log({'Acc':get_accuracy(model,X_train,y_train)})\n",
    "    wandb.log({'Val Acc':get_accuracy(model,X_test,y_test)})\n",
    "wandb.watch(model)\n",
    "wandb.finish()"
   ]
  },
  {
   "cell_type": "code",
   "execution_count": null,
   "id": "0eb0234d-5a3f-439e-a1e3-bfbf7bedb1a2",
   "metadata": {},
   "outputs": [],
   "source": [
    "torch.round(preds)"
   ]
  },
  {
   "cell_type": "code",
   "execution_count": null,
   "id": "3b65bc08-56ed-47ad-b148-f529f80cbd9e",
   "metadata": {},
   "outputs": [],
   "source": [
    "y_batch"
   ]
  },
  {
   "cell_type": "code",
   "execution_count": null,
   "id": "5aaa10d5-0ea4-4c07-a87c-73da1d623c82",
   "metadata": {},
   "outputs": [],
   "source": [
    "X_batch"
   ]
  },
  {
   "cell_type": "code",
   "execution_count": null,
   "id": "309cf9aa-e104-4358-b2e3-c05733003c82",
   "metadata": {},
   "outputs": [],
   "source": []
  }
 ],
 "metadata": {
  "kernelspec": {
   "display_name": "Python 3.7.3 64-bit ('base': conda)",
   "language": "python",
   "name": "python373jvsc74a57bd0210f9608a45c0278a93c9e0b10db32a427986ab48cfc0d20c139811eb78c4bbc"
  },
  "language_info": {
   "codemirror_mode": {
    "name": "ipython",
    "version": 3
   },
   "file_extension": ".py",
   "mimetype": "text/x-python",
   "name": "python",
   "nbconvert_exporter": "python",
   "pygments_lexer": "ipython3",
   "version": "3.7.7"
  }
 },
 "nbformat": 4,
 "nbformat_minor": 5
}
